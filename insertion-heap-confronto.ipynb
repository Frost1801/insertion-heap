{
 "cells": [
  {
   "cell_type": "markdown",
   "id": "56b1b8e1",
   "metadata": {},
   "source": [
    "# Confronto Insertion-sort e heap sort"
   ]
  },
  {
   "cell_type": "markdown",
   "id": "c982022c",
   "metadata": {},
   "source": [
    "In questo notebook verranno analizzati e confrontati i due algoritmi di ordinamento *insertion-sort* e *heap-sort*. "
   ]
  },
  {
   "cell_type": "markdown",
   "id": "d6b9c7d4",
   "metadata": {},
   "source": [
    "## Studio prestazioni attese\n",
    "Prima di procedere con l'implementazione degli algoritmi è opportuno fare delle assunzioni sulle prestazioni che ci aspettiamo."
   ]
  },
  {
   "cell_type": "markdown",
   "id": "dfbc4c9a",
   "metadata": {},
   "source": [
    "### Insertion sort\n",
    "\n",
    "L'insertion sort è un algoritmo di ordinamento **stabile** che ordina **sul posto** ossia opera sull'array da ordinare senza aver bisogno di memoria aggiuntiva. \n",
    "\n",
    "La logica secondo cui agisce questo algoritmo si potrebbe paragonare al modo in cui viene solitamente ordinato un mazzo di carte: l'insertion sort opera infatti ordinando gradualmente un sottoarray sinistro dell'input fornito, incrementando di 1 la grandezza del sottoarray ad ogni iterazione fino a quando l'intero array non è ordinato.\n",
    "#### Costo Insertion sort\n",
    "\n",
    "Possiamo quindi dedurre che nel **caso migliore**, ossia quando l'input è un array ordinato, l'insertion sort analizzera ogni elemento dell'array fino alla fine senza operare alcun cambiamento e dunque avremo un **costo lineare $O(n)$**. \n",
    "\n",
    "Nel **caso peggiore** ossia con in input un array ordinato al contrario l'array avrà un **costo quadratico $O(n^2)$**. \n",
    "\n",
    "Anche nel **caso medio** il costo sarà **quadratico $O(n^2)$**.\n",
    "#### Esempio applicazione insertion sort"
   ]
  },
  {
   "cell_type": "markdown",
   "id": "08a26c0a",
   "metadata": {},
   "source": [
    "<img src = \"insertion.png\" alt = \"esempio insertion sort\" width = 50%/>"
   ]
  },
  {
   "cell_type": "markdown",
   "id": "0b5e8af1",
   "metadata": {},
   "source": [
    "### Heap sort"
   ]
  },
  {
   "cell_type": "markdown",
   "id": "caf2c118",
   "metadata": {},
   "source": [
    "L'heap sort è un algoritmo di ordinamento tipicamente **non stabile** basato su confronti che ordina **sul posto**. \n",
    "\n",
    "L'heap sort opera trasformando un array in un max-heap, un albero binario rappresentato utilizzando un array dove il massimo valore si trova alla radice e scendendo dalla radice verso le foglie i valori diminuiscono, ossia vale la proprietà: \n",
    "$$A[parent(i)] \\ge A[i]$$\n",
    "\n",
    "La rappresentazione tramite array di un albero binario sfrutta le seguenti proprietà: \n",
    "- Il primo elemento dell'array è la radice dell'albero\n",
    "- Il padre del nodo $i$ è il nodo $\\lfloor i/2 \\rfloor$\n",
    "- Il figlio sinistro del nodo  $i$ è il nodo $2i$\n",
    "- Il figlio destro del nodo  $i$ è il nodo $2i + 1$\n",
    "#### Esempio rapresentazione di un albero binario tramite array"
   ]
  },
  {
   "cell_type": "markdown",
   "id": "31b48db9",
   "metadata": {},
   "source": [
    "<img src = \"Array-Complete-Tree.png\" alt = \"esempio insertion sort\" width = 50%/>"
   ]
  },
  {
   "cell_type": "markdown",
   "id": "7fa58f75",
   "metadata": {},
   "source": [
    "#### Costo Insertion sort\n",
    "\n",
    "Lo heap sort è composto da due parti, *Max-Heapify* e *Build-Max-Heap*. Max-Heapify ha costo $O(lgn)$, mentre Build-max-heap effettua $n/2$ chiamate a Max-heapify, dunque abbiamo un costo complessivo di $O(n lgn)$."
   ]
  },
  {
   "cell_type": "markdown",
   "id": "3e074056",
   "metadata": {},
   "source": [
    "## Test effettuati\n",
    "Gli algoritmi saranno testati secondo tre modalità: \n",
    "- Con valori randomizzati\n",
    "- Con valori crescenti \n",
    "- Con valori decrescenti\n",
    "\n",
    "I risultati dei test saranno rappresentati tramite la libreria *matplotlib*. "
   ]
  },
  {
   "cell_type": "markdown",
   "id": "a2b4ff01",
   "metadata": {},
   "source": [
    "## Codice implementato"
   ]
  },
  {
   "cell_type": "markdown",
   "id": "98c856e5",
   "metadata": {},
   "source": [
    "Import delle librerie necessarie\n",
    "\n",
    "In caso si verifichi un *ModuleNotFoundError* per matplotlib eseguire la riga sottostante: "
   ]
  },
  {
   "cell_type": "code",
   "execution_count": 3,
   "id": "70129f4d",
   "metadata": {},
   "outputs": [
    {
     "name": "stdout",
     "output_type": "stream",
     "text": [
      "Collecting matplotlib\n",
      "  Using cached matplotlib-3.7.0-cp38-cp38-manylinux_2_12_x86_64.manylinux2010_x86_64.whl (9.2 MB)\n",
      "Requirement already satisfied: pyparsing>=2.3.1 in /usr/lib/python3/dist-packages (from matplotlib) (2.4.6)\n",
      "Requirement already satisfied: pillow>=6.2.0 in /usr/lib/python3/dist-packages (from matplotlib) (7.0.0)\n",
      "Requirement already satisfied: python-dateutil>=2.7 in /home/sergio/.local/lib/python3.8/site-packages (from matplotlib) (2.8.2)\n",
      "Requirement already satisfied: importlib-resources>=3.2.0 in /home/sergio/.local/lib/python3.8/site-packages (from matplotlib) (5.12.0)\n",
      "Collecting numpy>=1.20\n",
      "  Using cached numpy-1.24.2-cp38-cp38-manylinux_2_17_x86_64.manylinux2014_x86_64.whl (17.3 MB)\n",
      "Requirement already satisfied: packaging>=20.0 in /usr/lib/python3/dist-packages (from matplotlib) (20.3)\n",
      "Collecting fonttools>=4.22.0\n",
      "  Using cached fonttools-4.38.0-py3-none-any.whl (965 kB)\n",
      "Collecting contourpy>=1.0.1\n",
      "  Using cached contourpy-1.0.7-cp38-cp38-manylinux_2_17_x86_64.manylinux2014_x86_64.whl (300 kB)\n",
      "Collecting kiwisolver>=1.0.1\n",
      "  Using cached kiwisolver-1.4.4-cp38-cp38-manylinux_2_5_x86_64.manylinux1_x86_64.whl (1.2 MB)\n",
      "Collecting cycler>=0.10\n",
      "  Using cached cycler-0.11.0-py3-none-any.whl (6.4 kB)\n",
      "Requirement already satisfied: zipp>=3.1.0 in /home/sergio/.local/lib/python3.8/site-packages (from importlib-resources>=3.2.0->matplotlib) (3.14.0)\n",
      "Requirement already satisfied: six>=1.5 in /usr/lib/python3/dist-packages (from python-dateutil>=2.7->matplotlib) (1.14.0)\n",
      "Installing collected packages: numpy, kiwisolver, fonttools, cycler, contourpy, matplotlib\n",
      "Successfully installed contourpy-1.0.7 cycler-0.11.0 fonttools-4.38.0 kiwisolver-1.4.4 matplotlib-3.7.0 numpy-1.24.2\n"
     ]
    }
   ],
   "source": [
    "import sys  \n",
    "!{sys.executable} -m pip install --user matplotlib"
   ]
  },
  {
   "cell_type": "code",
   "execution_count": 5,
   "id": "65458816",
   "metadata": {},
   "outputs": [],
   "source": [
    "import random\n",
    "from timeit import default_timer as timer\n",
    "import matplotlib\n",
    "matplotlib.use('TkAgg')\n",
    "import matplotlib.pyplot as plt"
   ]
  },
  {
   "cell_type": "markdown",
   "id": "4418b742",
   "metadata": {},
   "source": [
    "## Codice insertion sort"
   ]
  },
  {
   "cell_type": "code",
   "execution_count": 6,
   "id": "49398342",
   "metadata": {},
   "outputs": [],
   "source": [
    "def insertion_sort(A):\n",
    "    for j in range(1, len(A)):\n",
    "        key = A[j]\n",
    "        i = j - 1\n",
    "        while i >= 0 and A[i] > key:\n",
    "            A[i + 1] = A[i]\n",
    "            i -= 1\n",
    "        A[i + 1] = key"
   ]
  },
  {
   "cell_type": "markdown",
   "id": "4fd336b9",
   "metadata": {},
   "source": [
    "## Codice heapSort"
   ]
  },
  {
   "cell_type": "code",
   "execution_count": 7,
   "id": "fc20cae9",
   "metadata": {},
   "outputs": [],
   "source": [
    "def maxHeapify(arr, heapSize, i):\n",
    "    l = left(i)  # imposta l'indice del figlio sinistro\n",
    "    r = right(i)  # imposta l'indice del figlio destro\n",
    "\n",
    "    if l < heapSize and arr[i] < arr[l]:  # controlliamo di non aver sforato l'array e confrontiamo i e left\n",
    "        maxVal = l\n",
    "    else:\n",
    "        maxVal = i\n",
    "\n",
    "    if r < heapSize and arr[r] > arr[maxVal]:\n",
    "        maxVal = r\n",
    "    # se i non è il valore più grande allora dobbiamo scambiarlo con il maggiore per mantenere la proprietà\n",
    "    # di max heap\n",
    "    if maxVal != i:\n",
    "        arr[i], arr[maxVal] = arr[maxVal], arr[i]  # scambia a[i] con a[max]\n",
    "        maxHeapify(arr, heapSize, maxVal)\n"
   ]
  },
  {
   "cell_type": "code",
   "execution_count": 8,
   "id": "753c2b93",
   "metadata": {},
   "outputs": [],
   "source": [
    "def heapSort(arr):\n",
    "    buildMaxHeap(arr)\n",
    "    fixPositions(arr, len(arr))"
   ]
  },
  {
   "cell_type": "code",
   "execution_count": 9,
   "id": "fa049db7",
   "metadata": {},
   "outputs": [],
   "source": [
    "def fixPositions(arr, heapSize):\n",
    "    for i in range(heapSize - 1, 0, -1):  # scorre l'array al contrario\n",
    "        arr[i], arr[0] = arr[0], arr[i]  # scambia zero con il valore massimo del sottoarray che va da zero ad i\n",
    "        # stiamo chiamando maxheapify su un array di grandezza i, stiamo ponendo in posizione zero il valore\n",
    "        # più grande del sottoarray\n",
    "        maxHeapify(arr, i, 0)\n",
    "\n",
    "\n",
    "def buildMaxHeap(arr):\n",
    "    heapSize = len(arr)\n",
    "    for i in range(heapSize // 2 - 1, -1, -1):\n",
    "        maxHeapify(arr, heapSize, i)\n",
    "\n",
    "\n",
    "def left(i):\n",
    "    return 2 * i + 1\n",
    "\n",
    "\n",
    "def right(i):\n",
    "    return 2 * i + 2"
   ]
  },
  {
   "cell_type": "markdown",
   "id": "a03bf868",
   "metadata": {},
   "source": [
    "## Classe Tester\n",
    "\n",
    "La classe tester esegue i test secondo le tre modalità descritte in precedenza e restituisce il risultato"
   ]
  },
  {
   "cell_type": "code",
   "execution_count": 18,
   "id": "f4016547",
   "metadata": {},
   "outputs": [],
   "source": [
    "class Tester:\n",
    "    def __init__(self, n, testedAlgorithms):\n",
    "        self.sequentialArrays = None\n",
    "        self.randomArrays = None\n",
    "        self.n = n\n",
    "        self.testedAlgorithms = testedAlgorithms\n",
    "\n",
    "    def generateSequentialValues(self):\n",
    "        self.sequentialArrays = []\n",
    "        self.initializeMultidimensionalArray(self.sequentialArrays, self.n)\n",
    "        self.sequentialArrays[0] = [0]\n",
    "        for i in range(1, self.n):\n",
    "            self.sequentialArrays[i] = self.sequentialArrays[i - 1].copy()\n",
    "            self.sequentialArrays[i].append(i)\n",
    "\n",
    "    def generateRandomValues(self, lowerB, upperB):\n",
    "        self.randomArrays = []\n",
    "        self.initializeMultidimensionalArray(self.randomArrays, self.n)\n",
    "        for i in range(0, self.n):\n",
    "            for j in range(0, i + 1):\n",
    "                self.randomArrays[i].append(random.randrange(lowerB, upperB))\n",
    "\n",
    "    def initializeMultidimensionalArray(self, array, end):\n",
    "        for i in range(0, end):\n",
    "            array.append([])\n",
    "\n",
    "    def runRandomizedTest(self, lowerB, upperB):\n",
    "        self.generateRandomValues(lowerB, upperB)\n",
    "        return self.runTest(self.randomArrays)\n",
    "\n",
    "    def runSequentialTests(self):\n",
    "        self.generateSequentialValues()\n",
    "        return self.runTest(self.sequentialArrays)\n",
    "\n",
    "    def runReversedSequentialTests(self):\n",
    "        self.generateSequentialValues()\n",
    "        data = []\n",
    "        for i in range(0, len(self.sequentialArrays)):\n",
    "            data.append(list(reversed(self.sequentialArrays[i])))\n",
    "        return self.runTest(data)\n",
    "\n",
    "    def runTest(self, array):\n",
    "        results = []\n",
    "        self.initializeMultidimensionalArray(results, self.testedAlgorithms)\n",
    "        data = []\n",
    "        for i in range(0, self.testedAlgorithms):\n",
    "            data.append(array.copy())\n",
    "\n",
    "        for j in range(0, self.n):\n",
    "            index = 0\n",
    "            previous = results[index][j - 1][1] if j != 0 else None  # imposta il valore del precedente\n",
    "            results[index].append((j, self._testInsertion(data[index][j], previous)))\n",
    "            index += 1\n",
    "            previous = results[index][j - 1][1] if j != 0 else None\n",
    "            results[index].append((j, self._testHeapSort(data[index][j], previous)))\n",
    "        return results\n",
    "\n",
    "    def _testInsertion(self, data, previous):\n",
    "        start = timer()\n",
    "        insertionSort(data)\n",
    "        end = timer()\n",
    "        return end - start if previous is None else end - start + previous\n",
    "\n",
    "    def _testHeapSort(self, data, previous):\n",
    "        start = timer()\n",
    "        heapSort(data)\n",
    "        end = timer()\n",
    "        return end - start if previous is None else end - start + previous\n",
    "\n"
   ]
  },
  {
   "cell_type": "markdown",
   "id": "3e1ff40d",
   "metadata": {},
   "source": [
    "## Classe Plotter\n",
    "\n",
    "La classe plotter permette di realizzare i plot dei risultati forniti in input"
   ]
  },
  {
   "cell_type": "code",
   "execution_count": 19,
   "id": "bfd1f314",
   "metadata": {},
   "outputs": [],
   "source": [
    "class Plotter:\n",
    "    def plotGraph(self, x, toPlot, graphLabels, colors, graphTitle, axisLabels):\n",
    "        for i in range(0, len(toPlot)):\n",
    "            plt.plot(x, toPlot[i], colors[i])\n",
    "        plt.legend(graphLabels, title=graphTitle)\n",
    "        plt.xlabel = axisLabels[0]\n",
    "        plt.ylabel = (axisLabels[1])\n",
    "        plt.show()\n"
   ]
  },
  {
   "cell_type": "markdown",
   "id": "a44ac5e5",
   "metadata": {},
   "source": [
    "Il metodo *getYAxis* converte i risultati forniti da Tester in un array interpretabile dalla classe Plotter. "
   ]
  },
  {
   "cell_type": "code",
   "execution_count": 20,
   "id": "55143dfe",
   "metadata": {},
   "outputs": [],
   "source": [
    "def getYAxis (result, index):\n",
    "    y = []\n",
    "    for val in result[index]:\n",
    "        y.append(val[1])\n",
    "    return y"
   ]
  },
  {
   "cell_type": "code",
   "execution_count": 21,
   "id": "5675eb15",
   "metadata": {},
   "outputs": [
    {
     "ename": "NameError",
     "evalue": "name 'insertionSort' is not defined",
     "output_type": "error",
     "traceback": [
      "\u001b[0;31m---------------------------------------------------------------------------\u001b[0m",
      "\u001b[0;31mNameError\u001b[0m                                 Traceback (most recent call last)",
      "Cell \u001b[0;32mIn[21], line 7\u001b[0m\n\u001b[1;32m      4\u001b[0m upperB \u001b[38;5;241m=\u001b[39m \u001b[38;5;241m10\u001b[39m\n\u001b[1;32m      6\u001b[0m t \u001b[38;5;241m=\u001b[39m Tester(n, numTested)\n\u001b[0;32m----> 7\u001b[0m r1 \u001b[38;5;241m=\u001b[39m \u001b[43mt\u001b[49m\u001b[38;5;241;43m.\u001b[39;49m\u001b[43mrunRandomizedTest\u001b[49m\u001b[43m(\u001b[49m\u001b[43mlowerB\u001b[49m\u001b[43m,\u001b[49m\u001b[43m \u001b[49m\u001b[43mupperB\u001b[49m\u001b[43m)\u001b[49m\n\u001b[1;32m      8\u001b[0m r2 \u001b[38;5;241m=\u001b[39m t\u001b[38;5;241m.\u001b[39mrunSequentialTests()\n\u001b[1;32m      9\u001b[0m r3 \u001b[38;5;241m=\u001b[39m t\u001b[38;5;241m.\u001b[39mrunReversedSequentialTests()\n",
      "Cell \u001b[0;32mIn[18], line 29\u001b[0m, in \u001b[0;36mTester.runRandomizedTest\u001b[0;34m(self, lowerB, upperB)\u001b[0m\n\u001b[1;32m     27\u001b[0m \u001b[38;5;28;01mdef\u001b[39;00m \u001b[38;5;21mrunRandomizedTest\u001b[39m(\u001b[38;5;28mself\u001b[39m, lowerB, upperB):\n\u001b[1;32m     28\u001b[0m     \u001b[38;5;28mself\u001b[39m\u001b[38;5;241m.\u001b[39mgenerateRandomValues(lowerB, upperB)\n\u001b[0;32m---> 29\u001b[0m     \u001b[38;5;28;01mreturn\u001b[39;00m \u001b[38;5;28;43mself\u001b[39;49m\u001b[38;5;241;43m.\u001b[39;49m\u001b[43mrunTest\u001b[49m\u001b[43m(\u001b[49m\u001b[38;5;28;43mself\u001b[39;49m\u001b[38;5;241;43m.\u001b[39;49m\u001b[43mrandomArrays\u001b[49m\u001b[43m)\u001b[49m\n",
      "Cell \u001b[0;32mIn[18], line 52\u001b[0m, in \u001b[0;36mTester.runTest\u001b[0;34m(self, array)\u001b[0m\n\u001b[1;32m     50\u001b[0m index \u001b[38;5;241m=\u001b[39m \u001b[38;5;241m0\u001b[39m\n\u001b[1;32m     51\u001b[0m previous \u001b[38;5;241m=\u001b[39m results[index][j \u001b[38;5;241m-\u001b[39m \u001b[38;5;241m1\u001b[39m][\u001b[38;5;241m1\u001b[39m] \u001b[38;5;28;01mif\u001b[39;00m j \u001b[38;5;241m!=\u001b[39m \u001b[38;5;241m0\u001b[39m \u001b[38;5;28;01melse\u001b[39;00m \u001b[38;5;28;01mNone\u001b[39;00m  \u001b[38;5;66;03m# imposta il valore del precedente\u001b[39;00m\n\u001b[0;32m---> 52\u001b[0m results[index]\u001b[38;5;241m.\u001b[39mappend((j, \u001b[38;5;28;43mself\u001b[39;49m\u001b[38;5;241;43m.\u001b[39;49m\u001b[43m_testInsertion\u001b[49m\u001b[43m(\u001b[49m\u001b[43mdata\u001b[49m\u001b[43m[\u001b[49m\u001b[43mindex\u001b[49m\u001b[43m]\u001b[49m\u001b[43m[\u001b[49m\u001b[43mj\u001b[49m\u001b[43m]\u001b[49m\u001b[43m,\u001b[49m\u001b[43m \u001b[49m\u001b[43mprevious\u001b[49m\u001b[43m)\u001b[49m))\n\u001b[1;32m     53\u001b[0m index \u001b[38;5;241m+\u001b[39m\u001b[38;5;241m=\u001b[39m \u001b[38;5;241m1\u001b[39m\n\u001b[1;32m     54\u001b[0m previous \u001b[38;5;241m=\u001b[39m results[index][j \u001b[38;5;241m-\u001b[39m \u001b[38;5;241m1\u001b[39m][\u001b[38;5;241m1\u001b[39m] \u001b[38;5;28;01mif\u001b[39;00m j \u001b[38;5;241m!=\u001b[39m \u001b[38;5;241m0\u001b[39m \u001b[38;5;28;01melse\u001b[39;00m \u001b[38;5;28;01mNone\u001b[39;00m\n",
      "Cell \u001b[0;32mIn[18], line 60\u001b[0m, in \u001b[0;36mTester._testInsertion\u001b[0;34m(self, data, previous)\u001b[0m\n\u001b[1;32m     58\u001b[0m \u001b[38;5;28;01mdef\u001b[39;00m \u001b[38;5;21m_testInsertion\u001b[39m(\u001b[38;5;28mself\u001b[39m, data, previous):\n\u001b[1;32m     59\u001b[0m     start \u001b[38;5;241m=\u001b[39m timer()\n\u001b[0;32m---> 60\u001b[0m     \u001b[43minsertionSort\u001b[49m(data)\n\u001b[1;32m     61\u001b[0m     end \u001b[38;5;241m=\u001b[39m timer()\n\u001b[1;32m     62\u001b[0m     \u001b[38;5;28;01mreturn\u001b[39;00m end \u001b[38;5;241m-\u001b[39m start \u001b[38;5;28;01mif\u001b[39;00m previous \u001b[38;5;129;01mis\u001b[39;00m \u001b[38;5;28;01mNone\u001b[39;00m \u001b[38;5;28;01melse\u001b[39;00m end \u001b[38;5;241m-\u001b[39m start \u001b[38;5;241m+\u001b[39m previous\n",
      "\u001b[0;31mNameError\u001b[0m: name 'insertionSort' is not defined"
     ]
    }
   ],
   "source": [
    "n = 100\n",
    "numTested = 2\n",
    "lowerB = 0\n",
    "upperB = 10\n",
    "\n",
    "t = Tester(n, numTested)\n",
    "r1 = t.runRandomizedTest(lowerB, upperB)\n",
    "r2 = t.runSequentialTests()\n",
    "r3 = t.runReversedSequentialTests()\n",
    "p = Plotter()\n",
    "\n",
    "y1 = getYAxis(r1,0)\n",
    "y2 = getYAxis(r2,0)\n",
    "y3 = getYAxis(r3,0)\n",
    "y4 = getYAxis(r1, 1)\n",
    "y5 = getYAxis(r2, 1)\n",
    "y6 = getYAxis(r3, 1)\n",
    "\n",
    "x = [i for i in range (0, n)]\n",
    "\n",
    "p.plotGraph(x,[y1, y2, y3],[\"randomized\", \"sequential\", \"reversed\"],[\"-r\", \"-m\", \"-g\"],\"Sequential sort\",[\"nNodi\", \"tempo\"])"
   ]
  },
  {
   "cell_type": "code",
   "execution_count": null,
   "id": "7684b695",
   "metadata": {},
   "outputs": [],
   "source": []
  },
  {
   "cell_type": "code",
   "execution_count": null,
   "id": "ac09e33f",
   "metadata": {},
   "outputs": [],
   "source": []
  }
 ],
 "metadata": {
  "kernelspec": {
   "display_name": "Python 3 (ipykernel)",
   "language": "python",
   "name": "python3"
  },
  "language_info": {
   "codemirror_mode": {
    "name": "ipython",
    "version": 3
   },
   "file_extension": ".py",
   "mimetype": "text/x-python",
   "name": "python",
   "nbconvert_exporter": "python",
   "pygments_lexer": "ipython3",
   "version": "3.8.10"
  }
 },
 "nbformat": 4,
 "nbformat_minor": 5
}
