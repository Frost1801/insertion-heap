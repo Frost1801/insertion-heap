{
 "cells": [
  {
   "cell_type": "markdown",
   "id": "56b1b8e1",
   "metadata": {},
   "source": [
    "# Confronto Insertion-sort e heap sort\n",
    "> Laboratorio di Algoritmi - Sergio Cibecchini - 7049795\n",
    "\n",
    "In questo notebook verranno analizzati e confrontati i due algoritmi di ordinamento *insertion-sort* e *heap-sort*. "
   ]
  },
  {
   "cell_type": "markdown",
   "id": "d6b9c7d4",
   "metadata": {},
   "source": [
    "## Studio prestazioni attese\n",
    "Prima di procedere con l'implementazione degli algoritmi è opportuno fare delle assunzioni sulle prestazioni che ci aspettiamo."
   ]
  },
  {
   "cell_type": "markdown",
   "id": "dfbc4c9a",
   "metadata": {},
   "source": [
    "## Insertion sort\n",
    "\n",
    "L'insertion sort è un algoritmo di ordinamento **stabile** che ordina **sul posto** ossia opera sull'array da ordinare senza aver bisogno di memoria aggiuntiva. \n",
    "\n",
    "La logica secondo cui agisce questo algoritmo si potrebbe paragonare al modo in cui viene solitamente ordinato un mazzo di carte: l'insertion sort opera infatti ordinando gradualmente un sottoarray sinistro dell'input fornito, incrementando di 1 la grandezza del sottoarray ad ogni iterazione fino a quando l'intero array non è ordinato.\n",
    "#### Costo Insertion sort\n",
    "\n",
    "Possiamo quindi dedurre che nel **caso migliore**, ossia quando l'input è un array ordinato, l'insertion sort analizzera ogni elemento dell'array fino alla fine senza operare alcun cambiamento e dunque avremo un **costo lineare $O(n)$**. \n",
    "\n",
    "Nel **caso peggiore** ossia con in input un array ordinato al contrario l'array avrà un **costo quadratico $O(n^2)$**. \n",
    "\n",
    "Anche nel **caso medio** il costo sarà **quadratico $O(n^2)$**.\n",
    "#### Esempio applicazione insertion sort"
   ]
  },
  {
   "cell_type": "markdown",
   "id": "08a26c0a",
   "metadata": {},
   "source": [
    "<img src = \"insertion.png\" alt = \"esempio insertion sort\" width = 50%/>"
   ]
  },
  {
   "cell_type": "markdown",
   "id": "0b5e8af1",
   "metadata": {},
   "source": [
    "## Heap sort"
   ]
  },
  {
   "cell_type": "markdown",
   "id": "caf2c118",
   "metadata": {},
   "source": [
    "L'heap sort è un algoritmo di ordinamento tipicamente **non stabile** basato su confronti che ordina **sul posto**. \n",
    "\n",
    "L'heap sort opera trasformando un array in un max-heap, un albero binario rappresentato utilizzando un array dove il massimo valore si trova alla radice e scendendo dalla radice verso le foglie i valori diminuiscono, ossia vale la proprietà: \n",
    "$$A[parent(i)] \\ge A[i]$$\n",
    "\n",
    "La rappresentazione tramite array di un albero binario sfrutta le seguenti proprietà: \n",
    "- Il primo elemento dell'array è la radice dell'albero\n",
    "- Il padre del nodo $i$ è il nodo $\\lfloor i/2 \\rfloor$\n",
    "- Il figlio sinistro del nodo  $i$ è il nodo $2i$\n",
    "- Il figlio destro del nodo  $i$ è il nodo $2i + 1$\n",
    "#### Esempio rapresentazione di un albero binario tramite array"
   ]
  },
  {
   "cell_type": "markdown",
   "id": "31b48db9",
   "metadata": {},
   "source": [
    "<img src = \"Array-Complete-Tree.png\" alt = \"esempio insertion sort\" width = 50%/>"
   ]
  },
  {
   "cell_type": "markdown",
   "id": "7fa58f75",
   "metadata": {},
   "source": [
    "#### Costo Insertion sort\n",
    "\n",
    "Lo heap sort è composto da due parti, *Max-Heapify* e *Build-Max-Heap*. Max-Heapify ha costo $O(lgn)$, mentre Build-max-heap effettua $n/2$ chiamate a Max-heapify, dunque abbiamo un costo complessivo di $O(n lgn)$."
   ]
  },
  {
   "cell_type": "markdown",
   "id": "3e074056",
   "metadata": {},
   "source": [
    "## Test effettuati\n",
    "Gli algoritmi saranno testati secondo tre modalità: \n",
    "- Con valori randomizzati\n",
    "- Con valori crescenti \n",
    "- Con valori decrescenti\n",
    "\n",
    "I risultati dei test saranno rappresentati tramite la libreria *matplotlib*. "
   ]
  },
  {
   "cell_type": "markdown",
   "id": "a2b4ff01",
   "metadata": {},
   "source": [
    "## Codice implementato"
   ]
  },
  {
   "cell_type": "markdown",
   "id": "98c856e5",
   "metadata": {},
   "source": [
    "#### Import delle librerie necessarie\n",
    "\n",
    "> In caso si verifichi un *ModuleNotFoundError* per matplotlib, cambiare False a True ed eseguire la riga sottostante: "
   ]
  },
  {
   "cell_type": "code",
   "execution_count": 1,
   "id": "70129f4d",
   "metadata": {},
   "outputs": [],
   "source": [
    "if False: \n",
    "    import sys  \n",
    "    !{sys.executable} -m pip install --user matplotlib"
   ]
  },
  {
   "cell_type": "markdown",
   "id": "016f1ac4",
   "metadata": {},
   "source": [
    "#### Librerie utilizzate: "
   ]
  },
  {
   "cell_type": "code",
   "execution_count": 2,
   "id": "65458816",
   "metadata": {},
   "outputs": [],
   "source": [
    "import random\n",
    "from timeit import default_timer as timer\n",
    "import matplotlib\n",
    "matplotlib.use('TkAgg')\n",
    "import matplotlib.pyplot as plt"
   ]
  },
  {
   "cell_type": "markdown",
   "id": "4418b742",
   "metadata": {},
   "source": [
    "## Codice insertion sort"
   ]
  },
  {
   "cell_type": "code",
   "execution_count": 3,
   "id": "49398342",
   "metadata": {},
   "outputs": [],
   "source": [
    "def insertionSort(A):\n",
    "    for j in range(1, len(A)): #partiamo dal secondo elemento \n",
    "        key = A[j] #impostiamo l'elemento con cui confrontare\n",
    "        i = j - 1 \n",
    "        while i >= 0 and A[i] > key: \n",
    "            A[i + 1] = A[i]\n",
    "            i -= 1\n",
    "        A[i + 1] = key # lo slot corretto per key è i + 1"
   ]
  },
  {
   "cell_type": "markdown",
   "id": "4fd336b9",
   "metadata": {},
   "source": [
    "## Codice heapSort"
   ]
  },
  {
   "cell_type": "code",
   "execution_count": 4,
   "id": "fc20cae9",
   "metadata": {},
   "outputs": [],
   "source": [
    "def maxHeapify(arr, heapSize, i):\n",
    "    l = left(i)  # imposta l'indice del figlio sinistro\n",
    "    r = right(i)  # imposta l'indice del figlio destro\n",
    "\n",
    "    if l < heapSize and arr[i] < arr[l]:  # controlliamo di non aver sforato l'array e confrontiamo i e left\n",
    "        maxVal = l\n",
    "    else:\n",
    "        maxVal = i\n",
    "\n",
    "    if r < heapSize and arr[r] > arr[maxVal]:\n",
    "        maxVal = r\n",
    "    # se i non è il valore più grande allora dobbiamo scambiarlo con il maggiore per mantenere la proprietà\n",
    "    # di max heap\n",
    "    if maxVal != i:\n",
    "        arr[i], arr[maxVal] = arr[maxVal], arr[i]  # scambia a[i] con a[max]\n",
    "        maxHeapify(arr, heapSize, maxVal)\n"
   ]
  },
  {
   "cell_type": "code",
   "execution_count": 5,
   "id": "753c2b93",
   "metadata": {},
   "outputs": [],
   "source": [
    "def heapSort(arr):\n",
    "    buildMaxHeap(arr) #costruisce un max-heap\n",
    "    fixPositions(arr, len(arr)) #aggiusta i valori in modo che siano crescenti"
   ]
  },
  {
   "cell_type": "code",
   "execution_count": 6,
   "id": "fa049db7",
   "metadata": {},
   "outputs": [],
   "source": [
    "def fixPositions(arr, heapSize):\n",
    "    for i in range(heapSize - 1, 0, -1):  # scorre l'array al contrario\n",
    "        arr[i], arr[0] = arr[0], arr[i]  # scambia zero con il valore massimo del sottoarray che va da zero ad i\n",
    "        # stiamo chiamando maxheapify su un array di grandezza i, stiamo ponendo in posizione zero il valore\n",
    "        # più grande del sottoarray\n",
    "        maxHeapify(arr, i, 0)\n",
    "\n",
    "\n",
    "def buildMaxHeap(arr):\n",
    "    heapSize = len(arr) \n",
    "    for i in range(heapSize // 2 - 1, -1, -1): \n",
    "        maxHeapify(arr, heapSize, i)\n",
    "\n",
    "\n",
    "def left(i): #ritorna l'elemento sinistro nella rappresentazione di alberi binari tramite array\n",
    "    return 2 * i + 1\n",
    "\n",
    "\n",
    "def right(i): #ritorna l'elemento destro nella rappresentazione di alberi binari tramite array\n",
    "    return 2 * i + 2"
   ]
  },
  {
   "cell_type": "markdown",
   "id": "a03bf868",
   "metadata": {},
   "source": [
    "## Classe Tester\n",
    "\n",
    "La classe tester esegue i test secondo le tre modalità descritte in precedenza e restituisce il risultato."
   ]
  },
  {
   "cell_type": "code",
   "execution_count": 7,
   "id": "f4016547",
   "metadata": {},
   "outputs": [],
   "source": [
    "class Tester:\n",
    "    def __init__(self, n, testedAlgorithms):  # forniamo in ingresso il valore massimo del vettore di test\n",
    "        self.incrementalArrays = None\n",
    "        self.randomArrays = None\n",
    "        self.n = n\n",
    "        self.testedAlgorithms = testedAlgorithms  # numero di algoritmi che stiamo testando\n",
    "\n",
    "    def generateIncrementalValues(self):  # genera array con valori sequenziali da 0 a n -1\n",
    "        self.incrementalArrays = []\n",
    "        self.initializeMultidimensionalArray(self.incrementalArrays, self.n)\n",
    "        self.incrementalArrays[0] = [0]\n",
    "        for i in range(1, self.n):\n",
    "            self.incrementalArrays[i] = self.incrementalArrays[i - 1].copy()\n",
    "            self.incrementalArrays[i].append(i)\n",
    "\n",
    "    def generateRandomValues(self, lowerB, upperB):  # genera array con valori randomici\n",
    "        self.randomArrays = []\n",
    "        self.initializeMultidimensionalArray(self.randomArrays, self.n)\n",
    "        for i in range(0, self.n):\n",
    "            for j in range(0, i + 1):\n",
    "                self.randomArrays[i].append(random.randrange(lowerB, upperB))\n",
    "\n",
    "    def initializeMultidimensionalArray(self, array, end):  # converte l'array in input in un array di array\n",
    "        for i in range(0, end):\n",
    "            array.append([])\n",
    "\n",
    "    def runRandomizedTests(self, lowerB, upperB):  # chiama runtTests con in input gli array randomici\n",
    "        self.generateRandomValues(lowerB, upperB)\n",
    "        return self.runTest(self.randomArrays)\n",
    "\n",
    "    def runIncrementalTests(self):  # chiama runtTests con in input gli array con valori crescenti\n",
    "        self.generateIncrementalValues()\n",
    "        return self.runTest(self.incrementalArrays)\n",
    "\n",
    "    def runDecrementalTests(self):  # inverte gli array con valori crescenti in modo che siano decrescenti\n",
    "        self.generateIncrementalValues()\n",
    "        data = []\n",
    "        for i in range(0, len(self.incrementalArrays)):\n",
    "            data.append(list(reversed(self.incrementalArrays[i])))\n",
    "        return self.runTest(data)\n",
    "\n",
    "    def runTest(self, array):  # metodo principale per il testing, effettua i test con gli array in input\n",
    "        results = []\n",
    "        self.initializeMultidimensionalArray(results, self.testedAlgorithms)\n",
    "        data = []\n",
    "        for i in range(0, self.testedAlgorithms):  # siccome gli algoritmi operano in place è necessario\n",
    "            data.append(array.copy())  # creare due copie dello stesso input in modo che ad uno non siano forniti\n",
    "            # gli array già ordinati\n",
    "\n",
    "        for j in range(0, self.n):\n",
    "            index = 0\n",
    "            previous = results[index][j - 1][1] if j != 0 else None  # imposta il valore del precedente\n",
    "            results[index].append((j, self._testInsertion(data[index][j], previous)))  # testa l'insertion sort\n",
    "            index += 1\n",
    "            previous = results[index][j - 1][1] if j != 0 else None\n",
    "            results[index].append((j, self._testHeapSort(data[index][j], previous)))  # testa l'heap sort\n",
    "        return results\n",
    "\n",
    "    def _testInsertion(self, data, previous):  # fornisce all'algoritmo l'array da ordinare\n",
    "        start = timer()\n",
    "        insertionSort(data)\n",
    "        end = timer()\n",
    "        # restituisce il tempo impiegato per l'ordinamento\n",
    "        return end - start if previous is None else end - start + previous\n",
    "\n",
    "    def _testHeapSort(self, data, previous):\n",
    "        start = timer()\n",
    "        heapSort(data)\n",
    "        end = timer()\n",
    "        return end - start if previous is None else end - start + previous\n"
   ]
  },
  {
   "cell_type": "markdown",
   "id": "3e1ff40d",
   "metadata": {},
   "source": [
    "## Classe Plotter\n",
    "\n",
    "La classe plotter permette di realizzare i plot dei risultati forniti in input"
   ]
  },
  {
   "cell_type": "code",
   "execution_count": 8,
   "id": "bfd1f314",
   "metadata": {},
   "outputs": [],
   "source": [
    "class Plotter:\n",
    "    #semplifica il plotting del grafico\n",
    "    def plotGraph(self, x, toPlot, graphLabels, colors, graphTitle, axisLabels):\n",
    "        for i in range(0, len(toPlot)):\n",
    "            plt.plot(x, toPlot[i], colors[i])\n",
    "        plt.legend(graphLabels, title=graphTitle)\n",
    "        plt.xlabel = axisLabels[0]\n",
    "        plt.ylabel = (axisLabels[1])\n",
    "        plt.show()\n"
   ]
  },
  {
   "cell_type": "markdown",
   "id": "a44ac5e5",
   "metadata": {},
   "source": [
    "Il metodo *getYAxis* converte i risultati forniti da Tester in un array interpretabile dalla classe Plotter. "
   ]
  },
  {
   "cell_type": "code",
   "execution_count": 9,
   "id": "55143dfe",
   "metadata": {},
   "outputs": [],
   "source": [
    "def getYAxis (result, index): #restituisce soltato l'asse \n",
    "    y = []\n",
    "    for val in result[index]:\n",
    "        y.append(val[1])\n",
    "    return y"
   ]
  },
  {
   "cell_type": "markdown",
   "id": "84743fc2",
   "metadata": {},
   "source": [
    "## Dati di input i test\n",
    "Nelle righe di codice sottostanti sono presenti i dati che vengono forniti in ingresso alla classe tester per il run dei test.  \n",
    "#### Parametro n\n",
    "Il parametro n rappresenta la grandezza massima degli array analizzati, ad esempio con n uguale a 10 verranno analizzati 10 array, il primo con grandezza 1 e l'ultimo con grandezza 10. "
   ]
  },
  {
   "cell_type": "code",
   "execution_count": 10,
   "id": "5675eb15",
   "metadata": {},
   "outputs": [],
   "source": [
    "n = 500 #grandezza massima array"
   ]
  },
  {
   "cell_type": "markdown",
   "id": "5d4b8f93",
   "metadata": {},
   "source": [
    "#### Lower e Upper Bound\n",
    "Lower e Upper bound rappresentano i parametri che saranno utilizzati nella generazione dei valori randomici tramite la funzione *random.randrange*. In particolare andremo a generare dei valori da inserire nell'array nel range $[lowerB, upperB)$, dunque: \n",
    "$$ \\forall i,j \\ randomArrays[i][j] \\in [lowerB, upperB - 1]$$"
   ]
  },
  {
   "cell_type": "code",
   "execution_count": 11,
   "id": "7684b695",
   "metadata": {},
   "outputs": [],
   "source": [
    "lowerB = 0\n",
    "upperB = 100 "
   ]
  },
  {
   "cell_type": "markdown",
   "id": "4b90c188",
   "metadata": {},
   "source": [
    "#### Numtested \n",
    "Rappresenta il numero di algoritmi che stiamo testando, in questo caso vale 2. "
   ]
  },
  {
   "cell_type": "code",
   "execution_count": 12,
   "id": "ac09e33f",
   "metadata": {},
   "outputs": [],
   "source": [
    "numTested = 2 #don't change this value"
   ]
  },
  {
   "cell_type": "markdown",
   "id": "514a1474",
   "metadata": {},
   "source": [
    "## Run dei test\n",
    "Con le righe di codice successive andremo a creare un oggetto della classe *Tester* che utilizzeremo per effettuare il run dei test. L'output verrà memorizzato e rappresentato successivamente tramite grafici. "
   ]
  },
  {
   "cell_type": "markdown",
   "id": "2c41d529",
   "metadata": {},
   "source": [
    "#### Creazione istanza Tester"
   ]
  },
  {
   "cell_type": "code",
   "execution_count": 13,
   "id": "206828b0",
   "metadata": {},
   "outputs": [],
   "source": [
    "t = Tester(n, numTested) #creiamo una istanza di Tester con i parametri modificati sopra"
   ]
  },
  {
   "cell_type": "markdown",
   "id": "f6e8d35b",
   "metadata": {},
   "source": [
    "#### Run del test con array a valori randomizzati "
   ]
  },
  {
   "cell_type": "code",
   "execution_count": 14,
   "id": "b35cd002",
   "metadata": {},
   "outputs": [],
   "source": [
    "randomizedTestResult = t.runRandomizedTests(lowerB,upperB)"
   ]
  },
  {
   "cell_type": "markdown",
   "id": "d64940a8",
   "metadata": {},
   "source": [
    "#### Run del test con array a valori crescenti"
   ]
  },
  {
   "cell_type": "code",
   "execution_count": 15,
   "id": "56702e0b",
   "metadata": {},
   "outputs": [],
   "source": [
    "incrementalTestResult = t.runIncrementalTests()"
   ]
  },
  {
   "cell_type": "markdown",
   "id": "119437b4",
   "metadata": {},
   "source": [
    "#### Run del test a valori decrescenti"
   ]
  },
  {
   "cell_type": "code",
   "execution_count": 16,
   "id": "3cba3803",
   "metadata": {},
   "outputs": [],
   "source": [
    "decrementalTestResult = t.runDecrementalTests()"
   ]
  },
  {
   "cell_type": "markdown",
   "id": "b99602a0",
   "metadata": {},
   "source": [
    "## Plotting e analisi dei risultati\n",
    "Per effettuare il plotting andremo a creare una istanza della classe *Plotter* e gli forniremo i risultati ottenuti alla sezione di *Run dei test*. \n",
    "Per semplificare il run andremo a memorizzare tutti i risultati in un array y, dove: \n",
    "- y\\[0\\] risultati **insertionSort** con array **randomizzato**\n",
    "- y\\[1\\] risultati **heapSort** con array **randomizzato**\n",
    "- y\\[2\\] risultati **insertionSort** con array a valori **crescenti**\n",
    "- y\\[3\\] risultati **heapSort** con array a valori **crescenti**\n",
    "- y\\[4\\] risultati **insertionSort** con array a valori **decrescenti** \n",
    "- y\\[5\\] risultati **heapSort** con array a valori **decrescenti**\n",
    "\n"
   ]
  },
  {
   "cell_type": "code",
   "execution_count": 17,
   "id": "916d1130",
   "metadata": {},
   "outputs": [],
   "source": [
    "y = [] #asse y\n",
    "r = [randomizedTestResult, incrementalTestResult, decrementalTestResult]\n",
    "for i in range(0, len(r)):\n",
    "    for j in range(0, len(r[i])):\n",
    "        y.append(getYAxis(r[i], j))\n",
    "x = [i for i in range(0, n)] #asse x"
   ]
  },
  {
   "cell_type": "markdown",
   "id": "59859867",
   "metadata": {},
   "source": [
    "#### Creazione istanza di classe Plotter\n",
    "Creiamo una istanza della classe Plotter per poter rappresentare i grafici. "
   ]
  },
  {
   "cell_type": "code",
   "execution_count": 18,
   "id": "0c984079",
   "metadata": {},
   "outputs": [],
   "source": [
    "p = Plotter()"
   ]
  },
  {
   "cell_type": "markdown",
   "id": "08584768",
   "metadata": {},
   "source": [
    "## Studio casi InsertionSort\n",
    "Per prima cosa analizziamo l'insertionSort nei tre casi. Gli input sono stati scelti appositamente in modo da poter verificare caso peggiore, medio e migliore dell'insertionSort. "
   ]
  },
  {
   "cell_type": "code",
   "execution_count": 19,
   "id": "6d33d240",
   "metadata": {},
   "outputs": [],
   "source": [
    "p.plotGraph(x, [y[0], y[2], y[4]], [\"randomized\", \"increasing\", \"decreasing\"], \n",
    "            [\"-r\", \"-m\", \"-g\"], \"InsertionSort con i diversi input\", [\"nNodi\", \"tempo\"])"
   ]
  },
  {
   "cell_type": "markdown",
   "id": "8fb54513",
   "metadata": {},
   "source": [
    "Come possiamo osservare dal grafico, gli input generano effettivamente caso peggiore, medio e migliore. \n",
    "Vediamo infatti che il caso di array con valori randomizzati segue una curva $O(n^2)$ ma con andamento meno ripido rispetto al caso con array a valori decrescenti. Il caso con array già ordinati invece segue un andamento lineare.\n",
    "\n",
    "Abbiamo quindi potuto osservare nella pratica i tre casi del costo dell'insertionSort, confermando nella pratica le ipotesi teoriche. "
   ]
  },
  {
   "cell_type": "markdown",
   "id": "c8922c15",
   "metadata": {},
   "source": [
    "## Studio casi HeapSort\n",
    "Analizziamo ora l'HeapSort nelle tre casistiche: "
   ]
  },
  {
   "cell_type": "code",
   "execution_count": 20,
   "id": "07a19cdb",
   "metadata": {},
   "outputs": [],
   "source": [
    "p.plotGraph(x, [y[1], y[3], y[5]], [\"randomized\", \"increasing\", \"decreasing\"], \n",
    "            [\"-r\", \"-m\", \"-g\"], \"HeapSort con i diversi input\", [\"nNodi\", \"tempo\"])"
   ]
  },
  {
   "cell_type": "markdown",
   "id": "dad7761d",
   "metadata": {},
   "source": [
    "Dal grafo possiamo dedurre che l'Heapsort non risente in modo rilevante dall'ordinamento dei valori, in quanto otteniamo una performance simile per tutti e tre i casi di esame. "
   ]
  },
  {
   "cell_type": "markdown",
   "id": "bb3173c5",
   "metadata": {},
   "source": [
    "## Confronto InsertionSort e HeapSort\n",
    "Analizziamo i due algoritmi nelle varie casistiche. \n",
    "### Caso valori randomici"
   ]
  },
  {
   "cell_type": "code",
   "execution_count": 21,
   "id": "8e9c7bf7",
   "metadata": {},
   "outputs": [],
   "source": [
    "p.plotGraph(x, [y[0], y[1]], [\"insertion random values\", \"heap random values\"], \n",
    "            [\"-r\", \"-g\"], \"Confronto insertionSort e heapSort con valori randomici\", [\"nNodi\", \"tempo\"])"
   ]
  },
  {
   "cell_type": "markdown",
   "id": "eb0d930e",
   "metadata": {},
   "source": [
    "Possiamo osservare che nel caso di valori randomici la differenza di andamento tra i due algoritmi, $O(n^2)$ per l'insertion e $O(n lg n)$ per l'heap, viene rispecchiata dal grafico"
   ]
  },
  {
   "cell_type": "markdown",
   "id": "953138f0",
   "metadata": {},
   "source": [
    "### Caso valori crescenti"
   ]
  },
  {
   "cell_type": "code",
   "execution_count": 22,
   "id": "111fa224",
   "metadata": {},
   "outputs": [],
   "source": [
    "p.plotGraph(x, [y[2], y[3]], [\"insertion random values\", \"heap random values\"], \n",
    "            [\"-r\", \"-g\"], \"Confronto insertionSort e heapSort con valori crescenti\", [\"nNodi\", \"tempo\"])"
   ]
  },
  {
   "cell_type": "markdown",
   "id": "1febf0bf",
   "metadata": {},
   "source": [
    "Nel caso migliore del insertion invece, vediamo che l'heap sort si rivela più lento, in quanto stiamo confrontando un $O(n)$ con $O(n lg n)$. "
   ]
  },
  {
   "cell_type": "markdown",
   "id": "d322bf42",
   "metadata": {},
   "source": [
    "### Caso valori decrescenti"
   ]
  },
  {
   "cell_type": "code",
   "execution_count": 23,
   "id": "4b4e4301",
   "metadata": {},
   "outputs": [],
   "source": [
    "p.plotGraph(x, [y[4], y[5]], [\"insertion random values\", \"heap random values\"], \n",
    "            [\"-r\", \"-g\"], \"Confronto insertionSort e heapSort con valori decrescenti\", [\"nNodi\", \"tempo\"])"
   ]
  },
  {
   "cell_type": "markdown",
   "id": "85aff260",
   "metadata": {},
   "source": [
    "Nel caso degli array ordinati al contrario la differenza tra insertion e heap è ancora più accentuata di quanto visto nel caso con valori randomici."
   ]
  },
  {
   "cell_type": "markdown",
   "id": "2cea3fbd",
   "metadata": {},
   "source": [
    "## Conclusioni\n",
    "Tramite questo esperimento è stato possibile mettere a confronto l'andamento degli algoritmi *insertionSort* e *heapSort* al variare della tipologia di input. \n",
    "Le rilevazioni sperimentali hanno confermato quanto già supposto a priori nella teoria, mostrando che, sebbene i due algoritmi abbiano la stessa complessità spaziale, l'heapSort è più efficace in tutti i casi tranne nel caso migliore dell'insertion sort. \n",
    "\n",
    "L'heapSort si conferma dunque la scelta migliore tra i due nel caso si vogliano ordinare un numero consistente di elementi e la nostra priorità sia minimizzare il tempo di esecuzione. "
   ]
  }
 ],
 "metadata": {
  "kernelspec": {
   "display_name": "Python 3 (ipykernel)",
   "language": "python",
   "name": "python3"
  },
  "language_info": {
   "codemirror_mode": {
    "name": "ipython",
    "version": 3
   },
   "file_extension": ".py",
   "mimetype": "text/x-python",
   "name": "python",
   "nbconvert_exporter": "python",
   "pygments_lexer": "ipython3",
   "version": "3.8.10"
  }
 },
 "nbformat": 4,
 "nbformat_minor": 5
}
