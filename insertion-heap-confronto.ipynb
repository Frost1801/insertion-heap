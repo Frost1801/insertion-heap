{
 "cells": [
  {
   "cell_type": "markdown",
   "id": "116cb3b4",
   "metadata": {},
   "source": [
    "# Confronto Insertion-sort e heap sort"
   ]
  },
  {
   "cell_type": "markdown",
   "id": "bd4caef6",
   "metadata": {},
   "source": [
    "In questo notebook verranno analizzati e confrontati i due algoritmi di ordinamento *insertion-sort* e *heap-sort. "
   ]
  },
  {
   "cell_type": "markdown",
   "id": "ed338522",
   "metadata": {},
   "source": [
    "## Studio prestazioni attese"
   ]
  },
  {
   "cell_type": "markdown",
   "id": "4ac0611b",
   "metadata": {},
   "source": [
    "Prima di procedere con l'implementazione degli algoritmi è opportuno fare delle assunzioni sulle prestazioni che ci aspettiamo. "
   ]
  },
  {
   "cell_type": "markdown",
   "id": "ce07b710",
   "metadata": {},
   "source": [
    "### Insertion sort"
   ]
  },
  {
   "cell_type": "markdown",
   "id": "816b63c7",
   "metadata": {},
   "source": [
    "L'insertion sort è un algoritmo di ordinamento che ordina **sul posto** ossia opera sull'array da ordinare senza aver bisogno di memoria aggiuntiva. \n",
    "\n",
    "L'insertion sort opera ordinando gradualmente un sottoarray sinistro dell'input fornito, incrementando di 1 la grandezza del sottoarray ad ogni iterazione fino a quando l'intero array non è ordinato. \n",
    "\n",
    "Possiamo quindi dedurre che nel **caso migliore**, ossia quando l'input è un array ordinato, l'insertion sort analizzera ogni elemento dell'array fino alla fine senza operare alcun cambiamento e dunque avremo un **costo lineare $O(n)$**. \n",
    "\n",
    "Nel **caso peggiore** ossia con in input un array ordinato al contrario l'array avrà un **costo quadratico $O(n^2)$**. \n",
    "\n",
    "Anche nel **caso medio** il costo sarà **quadratico $O(n^2)$**."
   ]
  },
  {
   "cell_type": "code",
   "execution_count": null,
   "id": "4dd872d1",
   "metadata": {},
   "outputs": [],
   "source": []
  }
 ],
 "metadata": {
  "kernelspec": {
   "display_name": "Python 3 (ipykernel)",
   "language": "python",
   "name": "python3"
  },
  "language_info": {
   "codemirror_mode": {
    "name": "ipython",
    "version": 3
   },
   "file_extension": ".py",
   "mimetype": "text/x-python",
   "name": "python",
   "nbconvert_exporter": "python",
   "pygments_lexer": "ipython3",
   "version": "3.8.10"
  }
 },
 "nbformat": 4,
 "nbformat_minor": 5
}
